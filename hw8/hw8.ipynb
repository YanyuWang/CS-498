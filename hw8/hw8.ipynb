{
 "cells": [
  {
   "cell_type": "code",
   "execution_count": 20,
   "metadata": {},
   "outputs": [],
   "source": [
    "from PIL import Image\n",
    "import numpy as np\n",
    "\n",
    "im = Image.open('/Users/yansky/Desktop/CS498_AML/hw8/RobertMixed03.jpg')\n",
    "pix = im.load()\n",
    "\n",
    "picture_RovertMixed03 = np.zeros((640,480,3))\n",
    "for i in range(0, 640):\n",
    "    for j in range(0, 480):\n",
    "        #print(pix[i,j])\n",
    "        picture_RovertMixed03[i,j] = pix[i,j]"
   ]
  },
  {
   "cell_type": "code",
   "execution_count": 21,
   "metadata": {},
   "outputs": [],
   "source": [
    "im = Image.open('/Users/yansky/Desktop/CS498_AML/hw8/smallstrelitzia.jpg')\n",
    "pix = im.load()\n",
    "picture_smallstrelitzia = np.zeros((600,399,3))\n",
    "for i in range(0, 600):\n",
    "    for j in range(0, 399):\n",
    "        picture_smallstrelitzia[i,j] = pix[i,j]"
   ]
  },
  {
   "cell_type": "code",
   "execution_count": 22,
   "metadata": {},
   "outputs": [],
   "source": [
    "im = Image.open('/Users/yansky/Desktop/CS498_AML/hw8/smallsunset.jpg')\n",
    "pix = im.load()\n",
    "picture_smallsunset = np.zeros((600,330,3))\n",
    "for i in range(0, 600):\n",
    "    for j in range(0, 330):\n",
    "        picture_smallsunset[i,j] = pix[i,j]"
   ]
  }
 ],
 "metadata": {
  "kernelspec": {
   "display_name": "Python 3",
   "language": "python",
   "name": "python3"
  },
  "language_info": {
   "codemirror_mode": {
    "name": "ipython",
    "version": 3
   },
   "file_extension": ".py",
   "mimetype": "text/x-python",
   "name": "python",
   "nbconvert_exporter": "python",
   "pygments_lexer": "ipython3",
   "version": "3.6.3"
  }
 },
 "nbformat": 4,
 "nbformat_minor": 2
}
