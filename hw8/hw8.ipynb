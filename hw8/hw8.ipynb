{
 "cells": [
  {
   "cell_type": "code",
   "execution_count": 144,
   "metadata": {},
   "outputs": [],
   "source": [
    "from PIL import Image\n",
    "from sklearn.cluster import KMeans\n",
    "import numpy as np"
   ]
  },
  {
   "cell_type": "code",
   "execution_count": 145,
   "metadata": {
    "scrolled": true
   },
   "outputs": [],
   "source": [
    "# read images from local directory\n",
    "\n",
    "im01 = np.array(Image.open('./RobertMixed03.jpg'))\n",
    "im02 = np.array(Image.open('./smallstrelitzia.jpg'))\n",
    "im03 = np.array(Image.open('./smallsunset.jpg'))\n",
    "pixs01 = np.reshape(im01, (im01.shape[0]*im01.shape[1], 3))\n",
    "pixs02 = np.reshape(im02, (im02.shape[0]*im02.shape[1], 3))\n",
    "pixs03 = np.reshape(im03, (im03.shape[0]*im03.shape[1], 3))"
   ]
  },
  {
   "cell_type": "code",
   "execution_count": 146,
   "metadata": {},
   "outputs": [],
   "source": [
    "# initialize parameters\n",
    "\n",
    "    # Inputs: pixels: RGB image pixels\n",
    "    #         segments: number of clusters\n",
    "    #\n",
    "    # Return: mu: cluster centers\n",
    "    #         pi: cluster weights\n",
    "\n",
    "def init_para(pixels, segments):\n",
    "    \n",
    "    kmeans = KMeans(n_clusters = segments, init = \"random\", random_state = 0).fit(pixels)\n",
    "    mu = kmeans.cluster_centers_\n",
    "    pi = np.ones((segments, 1))/segments\n",
    "    \n",
    "    return mu, pi"
   ]
  },
  {
   "cell_type": "code",
   "execution_count": 147,
   "metadata": {},
   "outputs": [],
   "source": [
    "# E-step\n",
    "\n",
    "    # Inputs: pixels: RGB image pixels\n",
    "    #         mu: cluster centers\n",
    "    #         pi: cluster weights    \n",
    "    #\n",
    "    # Return: w: weights that a data belongs to a cluster\n",
    "    \n",
    "def estimation(pixels, mu, pi):\n",
    "    \n",
    "    w = np.zeros((pixels.shape[0], mu.shape[0]))\n",
    "    for x in range(pixels.shape[0]):\n",
    "        \n",
    "        pixel = np.array([pixels[x]]*mu.shape[0])\n",
    "        diff = np.subtract(pixel, mu)\n",
    "        square = np.multiply(diff, diff)\n",
    "        min_idx = np.argmin(np.sum(square, axis = 1))\n",
    "        dmin = square[min_idx]\n",
    "        square = np.subtract(square, dmin)\n",
    "        power = -1/2 * np.sum(square, axis=1)\n",
    "        weight = np.multiply(np.exp(power), pi.T)\n",
    "        w[x] = np.divide(weight, np.sum(weight))\n",
    "        \n",
    "    return w"
   ]
  },
  {
   "cell_type": "code",
   "execution_count": 148,
   "metadata": {},
   "outputs": [],
   "source": [
    "# M-step\n",
    "\n",
    "    # Inputs: pixels: RGB image pixels\n",
    "    #         w: weights that a data belongs to a cluster  \n",
    "    #\n",
    "    # Return: mu: cluster centers\n",
    "    #         pi: cluster weights  \n",
    "    \n",
    "def maximization(pixels, w):\n",
    "    \n",
    "    mu = np.zeros((w.shape[1], pixels.shape[1]))\n",
    "    pi = np.zeros((w.shape[1], 1))\n",
    "    for c in range(w.shape[1]):\n",
    "        \n",
    "        w_c = w.T[c]\n",
    "        mu_num = np.matmul(pixels.T, w_c)\n",
    "        mu_denom = np.sum(w_c)\n",
    "        mu[c] = np.divide(mu_num, mu_denom)\n",
    "        pi[c] = np.divide(mu_denom, pixels.shape[0])\n",
    "        \n",
    "    return mu, pi"
   ]
  },
  {
   "cell_type": "code",
   "execution_count": 149,
   "metadata": {},
   "outputs": [],
   "source": [
    "# EM iteration\n",
    "\n",
    "    # Inputs: it: iterating times\n",
    "    #         pixels: RGB image pixels \n",
    "    #         mu: cluster centers\n",
    "    #         pi: cluster weights  \n",
    "    #\n",
    "    # Return: mu: updated cluster centers after iterations\n",
    "    #         pi: updated cluster weights after iterations\n",
    "\n",
    "def EM(it, pixels, mu, pi):\n",
    "    \n",
    "    if it==0:\n",
    "        \n",
    "        return mu,pi\n",
    "    \n",
    "    else:\n",
    "        \n",
    "        w = estimation(pixels, mu, pi)\n",
    "        mu, pi = maximization(pixels, w)\n",
    "        \n",
    "        return EM(it-1, pixels, mu, pi)"
   ]
  },
  {
   "cell_type": "code",
   "execution_count": 150,
   "metadata": {
    "scrolled": true
   },
   "outputs": [],
   "source": [
    "# image1 clustering\n",
    "\n",
    "it = 10\n",
    "segments = 10\n",
    "mu0, pi0 = init_para(pixs01, segments)\n",
    "mu, pi = EM(it, pixs01, mu0, pi0)\n",
    "\n",
    "# TODO: plot the image using pixels closest to the center of clusters\n",
    "# Your code here\n"
   ]
  },
  {
   "cell_type": "code",
   "execution_count": 152,
   "metadata": {},
   "outputs": [
    {
     "name": "stdout",
     "output_type": "stream",
     "text": [
      "[[ 11.72409518  42.98911235  23.00529445]\n",
      " [ 78.15518278 162.16218441 162.18803698]\n",
      " [100.758745   143.87469507  84.31850533]\n",
      " [ 60.96889802  99.50082165  42.72026448]\n",
      " [140.78219172 218.49049459 196.63742278]\n",
      " [200.55610242 251.65384917 231.31850604]\n",
      " [ 34.44835003 118.88114015 127.51713825]\n",
      " [150.33526502 189.46263054 118.84487247]\n",
      " [ 10.014494    76.16340445  79.80289943]\n",
      " [203.35118138 228.99082017 141.78535004]]\n",
      "[[0.1634563 ]\n",
      " [0.07776837]\n",
      " [0.07435704]\n",
      " [0.07990646]\n",
      " [0.07755775]\n",
      " [0.07984125]\n",
      " [0.16509989]\n",
      " [0.10465653]\n",
      " [0.12803177]\n",
      " [0.04932463]]\n"
     ]
    }
   ],
   "source": [
    "print(mu)\n",
    "print(pi)"
   ]
  }
 ],
 "metadata": {
  "kernelspec": {
   "display_name": "Python 3",
   "language": "python",
   "name": "python3"
  },
  "language_info": {
   "codemirror_mode": {
    "name": "ipython",
    "version": 3
   },
   "file_extension": ".py",
   "mimetype": "text/x-python",
   "name": "python",
   "nbconvert_exporter": "python",
   "pygments_lexer": "ipython3",
   "version": "3.6.4"
  }
 },
 "nbformat": 4,
 "nbformat_minor": 2
}
