{
 "cells": [
  {
   "cell_type": "code",
   "execution_count": 281,
   "metadata": {},
   "outputs": [],
   "source": [
    "from PIL import Image\n",
    "from sklearn.cluster import KMeans\n",
    "import numpy as np"
   ]
  },
  {
   "cell_type": "code",
   "execution_count": 282,
   "metadata": {
    "scrolled": true
   },
   "outputs": [],
   "source": [
    "im01 = np.array(Image.open('./RobertMixed03.jpg'))/255\n",
    "im02 = np.array(Image.open('./smallstrelitzia.jpg'))/255\n",
    "im03 = np.array(Image.open('./smallsunset.jpg'))/255\n",
    "pixs01 = np.reshape(im01, (im01.shape[0]*im01.shape[1], 3))\n",
    "pixs02 = np.reshape(im02, (im02.shape[0]*im02.shape[1], 3))\n",
    "pixs03 = np.reshape(im03, (im03.shape[0]*im03.shape[1], 3))"
   ]
  },
  {
   "cell_type": "code",
   "execution_count": 283,
   "metadata": {},
   "outputs": [],
   "source": [
    "def init_para(pixels, segments):\n",
    "    kmeans = KMeans(n_clusters = segments, init = \"random\", random_state = 0).fit(pixels)\n",
    "    mu = kmeans.cluster_centers_\n",
    "    pi = np.ones((segments, 1))/segments\n",
    "    return mu, pi"
   ]
  },
  {
   "cell_type": "code",
   "execution_count": 284,
   "metadata": {},
   "outputs": [],
   "source": [
    "def estimation(pixels, mu, pi):\n",
    "    w = np.zeros((pixels.shape[0], mu.shape[0]))\n",
    "    for x in range(pixels.shape[0]):\n",
    "        pixel = np.array([pixels[x]]*10)\n",
    "        diff = np.subtract(pixel, mu)\n",
    "        sqrt = np.multiply(diff, diff)\n",
    "        power = -1/2 * np.sum(sqrt, axis=1)\n",
    "        weight = np.multiply(np.exp(power), pi.T)\n",
    "        w[x] = np.divide(weight, np.sum(weight))\n",
    "    return w"
   ]
  },
  {
   "cell_type": "code",
   "execution_count": 285,
   "metadata": {},
   "outputs": [],
   "source": [
    "def maximization(pixels, w):\n",
    "    mu = np.zeros((w.shape[1], pixels.shape[1]))\n",
    "    pi = np.zeros((w.shape[1], 1))\n",
    "    for c in range(w.shape[1]):\n",
    "        w_c = w.T[c]\n",
    "        mu_num = np.matmul(pixels.T, w_c)\n",
    "        mu_denom = np.sum(w_c)\n",
    "        mu[c] = np.divide(mu_num, mu_denom)\n",
    "        pi[c] = np.divide(mu_denom, pixels.shape[0])\n",
    "    return mu, pi"
   ]
  },
  {
   "cell_type": "code",
   "execution_count": 286,
   "metadata": {},
   "outputs": [],
   "source": [
    "def EM(it, pixels, mu, pi):\n",
    "    if it==0:\n",
    "        return mu,pi\n",
    "    else:\n",
    "        w = estimation(pixels, mu, pi)\n",
    "        mu, pi = maximization(pixels, w)\n",
    "        return EM(it-1, pixels, mu, pi)"
   ]
  },
  {
   "cell_type": "code",
   "execution_count": 287,
   "metadata": {
    "scrolled": true
   },
   "outputs": [],
   "source": [
    "mu0, pi0 = init_para(pixs01, 10)"
   ]
  },
  {
   "cell_type": "code",
   "execution_count": 288,
   "metadata": {
    "scrolled": false
   },
   "outputs": [],
   "source": [
    "mu, pi = EM(5, pixs01, mu0, pi0)"
   ]
  }
 ],
 "metadata": {
  "kernelspec": {
   "display_name": "Python 3",
   "language": "python",
   "name": "python3"
  },
  "language_info": {
   "codemirror_mode": {
    "name": "ipython",
    "version": 3
   },
   "file_extension": ".py",
   "mimetype": "text/x-python",
   "name": "python",
   "nbconvert_exporter": "python",
   "pygments_lexer": "ipython3",
   "version": "3.6.4"
  }
 },
 "nbformat": 4,
 "nbformat_minor": 2
}
