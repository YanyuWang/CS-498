{
 "cells": [
  {
   "cell_type": "code",
   "execution_count": 2,
   "metadata": {
    "collapsed": true
   },
   "outputs": [],
   "source": [
    "from PIL import Image\n",
    "from sklearn.cluster import KMeans\n",
    "import numpy as np"
   ]
  },
  {
   "cell_type": "code",
   "execution_count": 3,
   "metadata": {
    "collapsed": true,
    "scrolled": true
   },
   "outputs": [],
   "source": [
    "# read images from local directory\n",
    "\n",
    "im01 = np.array(Image.open('./RobertMixed03.jpg'))\n",
    "im02 = np.array(Image.open('./smallstrelitzia.jpg'))\n",
    "im03 = np.array(Image.open('./smallsunset.jpg'))\n",
    "pixs01 = np.reshape(im01, (im01.shape[0]*im01.shape[1], 3))\n",
    "pixs02 = np.reshape(im02, (im02.shape[0]*im02.shape[1], 3))\n",
    "pixs03 = np.reshape(im03, (im03.shape[0]*im03.shape[1], 3))"
   ]
  },
  {
   "cell_type": "code",
   "execution_count": 4,
   "metadata": {
    "collapsed": true
   },
   "outputs": [],
   "source": [
    "# initialize parameters\n",
    "\n",
    "    # Inputs: pixels: RGB image pixels\n",
    "    #         segments: number of clusters\n",
    "    #\n",
    "    # Return: mu: cluster centers\n",
    "    #         pi: cluster weights\n",
    "\n",
    "def init_para(pixels, segments):\n",
    "    \n",
    "    kmeans = KMeans(n_clusters = segments, init = \"random\", random_state = 0).fit(pixels)\n",
    "    mu = kmeans.cluster_centers_\n",
    "    pi = np.ones((segments, 1))/segments\n",
    "    \n",
    "    return mu, pi"
   ]
  },
  {
   "cell_type": "code",
   "execution_count": 6,
   "metadata": {},
   "outputs": [],
   "source": [
    "# E-step\n",
    "\n",
    "    # Inputs: pixels: RGB image pixels in (r,g,b) form\n",
    "    #         mu: cluster centers, size: (segments * 3)\n",
    "    #         pi: cluster weights, size: (segments * 1)\n",
    "    #\n",
    "    # Return: w: weights that a data belongs to a cluster\n",
    "    \n",
    "def estimation(pixels, mu, pi):\n",
    "    \n",
    "    w = np.zeros((pixels.shape[0], mu.shape[0]))\n",
    "    upper = np.zeros((pixels.shape[0], mu.shape[0]))\n",
    "    bottom = np.zeros((pixels.shape[0], mu.shape[0]))\n",
    "    \n",
    "    for j in range(mu.shape[0]):\n",
    "        diff = pixels - mu[j]\n",
    "        square = np.sum(np.abs(diff)**2,axis=-1)\n",
    "        upper[:,j] = np.exp(-0.5 * square)*pi[j]\n",
    "        \n",
    "        for i in range(mu.shape[0]):\n",
    "            pixel = pixels - mu[i]\n",
    "            square_temp = np.sum(np.abs(pixel)**2, axis = -1)\n",
    "            pixel = np.exp(-0.5 * square_temp)*pi[i]\n",
    "            pixel = np.reshape(np.array(pixel), (pixels.shape[0],1))\n",
    "            bottom[:,j] = bottom[:,j] + pixel\n",
    "    w = upper/bottom\n",
    "        \n",
    "    return w"
   ]
  },
  {
   "cell_type": "code",
   "execution_count": null,
   "metadata": {},
   "outputs": [],
   "source": [
    "w = estimation(pixs01, mu0, pi0)\n"
   ]
  },
  {
   "cell_type": "code",
   "execution_count": null,
   "metadata": {
    "collapsed": true
   },
   "outputs": [],
   "source": [
    "# E-step\n",
    "\n",
    "    # Inputs: pixels: RGB image pixels in (r,g,b) form\n",
    "    #         mu: cluster centers, size: (segments * 3)\n",
    "    #         pi: cluster weights, size: (segments * 1)\n",
    "    #\n",
    "    # Return: w: weights that a data belongs to a cluster\n",
    "    \n",
    "def estimation(pixels, mu, pi):\n",
    "    \n",
    "    w = np.zeros((pixels.shape[0], mu.shape[0]))\n",
    "    for x in range(pixels.shape[0]):\n",
    "        pixel = np.array([pixels[x]]*mu.shape[0])\n",
    "        diff = np.subtract(pixel, mu)\n",
    "        square = np.multiply(diff, diff)\n",
    "        min_idx = np.argmin(np.sum(square, axis = 1))\n",
    "        dmin = square[min_idx]\n",
    "        square = np.subtract(square, dmin)\n",
    "        power = -1/2 * np.sum(square, axis=1)\n",
    "        weight = np.multiply(np.exp(power), pi.T)\n",
    "        w[x] = np.divide(weight, np.sum(weight))\n",
    "        \n",
    "    return w"
   ]
  },
  {
   "cell_type": "code",
   "execution_count": null,
   "metadata": {
    "collapsed": true
   },
   "outputs": [],
   "source": [
    "# M-step\n",
    "\n",
    "    # Inputs: pixels: RGB image pixels\n",
    "    #         w: weights that a data belongs to a cluster  \n",
    "    #\n",
    "    # Return: mu: cluster centers\n",
    "    #         pi: cluster weights  \n",
    "    \n",
    "def maximization(pixels, w):\n",
    "    \n",
    "    mu = np.zeros((w.shape[1], pixels.shape[1]))\n",
    "    pi = np.zeros((w.shape[1], 1))\n",
    "    for c in range(w.shape[1]):\n",
    "        \n",
    "        w_c = w.T[c]\n",
    "        mu_num = np.matmul(pixels.T, w_c)\n",
    "        mu_denom = np.sum(w_c)\n",
    "        mu[c] = np.divide(mu_num, mu_denom)\n",
    "        pi[c] = np.divide(mu_denom, pixels.shape[0])\n",
    "        \n",
    "    return mu, pi"
   ]
  },
  {
   "cell_type": "code",
   "execution_count": null,
   "metadata": {
    "collapsed": true
   },
   "outputs": [],
   "source": [
    "# EM iteration\n",
    "\n",
    "    # Inputs: it: iterating times\n",
    "    #         pixels: RGB image pixels \n",
    "    #         mu: cluster centers\n",
    "    #         pi: cluster weights  \n",
    "    #\n",
    "    # Return: mu: updated cluster centers after iterations\n",
    "    #         pi: updated cluster weights after iterations\n",
    "\n",
    "def EM(it, pixels, mu, pi):\n",
    "    \n",
    "    if it==0:\n",
    "        \n",
    "        return mu,pi\n",
    "    \n",
    "    else:\n",
    "        \n",
    "        w = estimation(pixels, mu, pi)\n",
    "        mu, pi = maximization(pixels, w)\n",
    "        \n",
    "        return EM(it-1, pixels, mu, pi)"
   ]
  },
  {
   "cell_type": "code",
   "execution_count": 5,
   "metadata": {
    "collapsed": true,
    "scrolled": true
   },
   "outputs": [],
   "source": [
    "# image1 clustering\n",
    "\n",
    "it = 10\n",
    "segments = 10\n",
    "mu0, pi0 = init_para(pixs01, segments)\n",
    "#mu, pi = EM(it, pixs01, mu0, pi0)\n",
    "\n",
    "# TODO: plot the image using pixels closest to the center of clusters\n",
    "# Your code here\n"
   ]
  },
  {
   "cell_type": "code",
   "execution_count": null,
   "metadata": {},
   "outputs": [],
   "source": [
    "print(mu)\n",
    "print(pi)"
   ]
  }
 ],
 "metadata": {
  "kernelspec": {
   "display_name": "Python 3",
   "language": "python",
   "name": "python3"
  },
  "language_info": {
   "codemirror_mode": {
    "name": "ipython",
    "version": 3
   },
   "file_extension": ".py",
   "mimetype": "text/x-python",
   "name": "python",
   "nbconvert_exporter": "python",
   "pygments_lexer": "ipython3",
   "version": "3.6.3"
  }
 },
 "nbformat": 4,
 "nbformat_minor": 2
}
