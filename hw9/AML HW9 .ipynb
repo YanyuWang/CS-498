{
 "cells": [
  {
   "cell_type": "markdown",
   "metadata": {},
   "source": [
    "# Mean Field Inference"
   ]
  },
  {
   "cell_type": "code",
   "execution_count": 1,
   "metadata": {},
   "outputs": [],
   "source": [
    "import numpy as np\n",
    "from mlxtend.data import loadlocal_mnist\n",
    "import matplotlib.pyplot as plt\n"
   ]
  },
  {
   "cell_type": "code",
   "execution_count": 2,
   "metadata": {},
   "outputs": [],
   "source": [
    "# load MNIST images\n",
    "\n",
    "ims, _ = loadlocal_mnist(\n",
    "        images_path='train-images.idx3-ubyte', \n",
    "        labels_path='train-labels.idx1-ubyte')\n"
   ]
  },
  {
   "cell_type": "code",
   "execution_count": 3,
   "metadata": {},
   "outputs": [],
   "source": [
    "# find 8 neighbors of a given pixel\n",
    "\n",
    "def find_neighbor(im, idx, w, h):\n",
    "    s = w*h\n",
    "    nbr = []\n",
    "    if idx < 0 or idx > s-1:\n",
    "        return nbr\n",
    "    if idx-1 >= 0 and idx%w != 0:\n",
    "        nbr.append(idx-1)\n",
    "    if idx+1 < s and (idx+1)%w != 0:\n",
    "        nbr.append(idx+1)\n",
    "    if idx-w >= 0:\n",
    "        nbr.append(idx-w)\n",
    "    if idx+w < s:\n",
    "        nbr.append(idx+w)\n",
    "    if idx-w-1 >= 0 and idx%w != 0:\n",
    "        nbr.append(idx-w-1)\n",
    "    if idx-w+1 >= 0 and (idx+1)%w != 0:\n",
    "        nbr.append(idx-w+1)\n",
    "    if idx+w-1 < s and idx%w != 0:\n",
    "        nbr.append(idx+w-1)\n",
    "    if idx+w+1 < s and (idx+1)%w != 0:\n",
    "        nbr.append(idx+w+1)\n",
    "    return nbr\n"
   ]
  },
  {
   "cell_type": "code",
   "execution_count": 4,
   "metadata": {},
   "outputs": [],
   "source": [
    "# Update an image using mean field inference until it converges(update<delta)\n",
    "\n",
    "def update_image(im, theta_h, theta_x, pi_i, delta):\n",
    "    temp_im = im.copy()\n",
    "    temp_pi_i = pi_i.copy()\n",
    "    diff = 0\n",
    "    for p in range(im.shape[0]):\n",
    "        nbr = find_neighbor(im, p, 28, 28)\n",
    "        q_plus = 0\n",
    "        q_minus = 0\n",
    "        for n in nbr:\n",
    "            q_plus += ((theta_h) * (2*pi_i[n] - 1) + theta_x * im[n])\n",
    "            q_minus += -q_plus\n",
    "        temp_pi_i[p] = np.exp(q_plus)/(np.exp(q_plus)+np.exp(q_minus))\n",
    "        if abs(temp_pi_i[p] - pi_i[p]) > diff:\n",
    "            diff = abs(temp_pi_i[p] - pi_i[p])\n",
    "        if temp_pi_i[p] > 0.5:\n",
    "            temp_im[p] = 1\n",
    "        else:\n",
    "            temp_im[p] = -1\n",
    "    im = temp_im\n",
    "    pi_i = temp_pi_i\n",
    "    if diff > delta:\n",
    "        update_image(im, theta_h, theta_x, pi_i, delta)\n",
    "    return im, pi_i\n"
   ]
  },
  {
   "cell_type": "code",
   "execution_count": 5,
   "metadata": {},
   "outputs": [],
   "source": [
    "# take the first 500 MNIST images as original images and denoise 2% pixels randomly\n",
    "\n",
    "im_in = ims[0:500][:]/255\n",
    "im_noise = im_in.copy()\n",
    "rand_idx = np.arange(im_in.shape[1])\n",
    "for i in range(im_in.shape[0]):\n",
    "    for j in range(im_in.shape[1]):\n",
    "        if im_in[i][j]>=0.5:\n",
    "            im_in[i][j] = 1\n",
    "            im_noise[i][j] = 1\n",
    "        else:\n",
    "            im_in[i][j] = -1\n",
    "            im_noise[i][j] = -1\n",
    "    np.random.shuffle(rand_idx)\n",
    "    for k in range(int(len(rand_idx)*0.02)):\n",
    "        p = rand_idx[k]\n",
    "        im_noise[i][p]*=-1\n",
    "        "
   ]
  },
  {
   "cell_type": "code",
   "execution_count": 6,
   "metadata": {},
   "outputs": [
    {
     "ename": "KeyboardInterrupt",
     "evalue": "",
     "output_type": "error",
     "traceback": [
      "\u001b[0;31m---------------------------------------------------------------------------\u001b[0m",
      "\u001b[0;31mKeyboardInterrupt\u001b[0m                         Traceback (most recent call last)",
      "\u001b[0;32m<ipython-input-6-46042230d3fb>\u001b[0m in \u001b[0;36m<module>\u001b[0;34m()\u001b[0m\n\u001b[1;32m      5\u001b[0m \u001b[0mdelta\u001b[0m \u001b[0;34m=\u001b[0m \u001b[0;36m0.001\u001b[0m\u001b[0;34m\u001b[0m\u001b[0m\n\u001b[1;32m      6\u001b[0m \u001b[0;32mfor\u001b[0m \u001b[0mi\u001b[0m \u001b[0;32min\u001b[0m \u001b[0mrange\u001b[0m\u001b[0;34m(\u001b[0m\u001b[0mim_out\u001b[0m\u001b[0;34m.\u001b[0m\u001b[0mshape\u001b[0m\u001b[0;34m[\u001b[0m\u001b[0;36m0\u001b[0m\u001b[0;34m]\u001b[0m\u001b[0;34m)\u001b[0m\u001b[0;34m:\u001b[0m\u001b[0;34m\u001b[0m\u001b[0m\n\u001b[0;32m----> 7\u001b[0;31m     \u001b[0mim_out\u001b[0m\u001b[0;34m[\u001b[0m\u001b[0mi\u001b[0m\u001b[0;34m]\u001b[0m\u001b[0;34m,\u001b[0m \u001b[0mpi\u001b[0m\u001b[0;34m[\u001b[0m\u001b[0mi\u001b[0m\u001b[0;34m]\u001b[0m\u001b[0;34m=\u001b[0m \u001b[0mupdate_image\u001b[0m\u001b[0;34m(\u001b[0m\u001b[0mim_out\u001b[0m\u001b[0;34m[\u001b[0m\u001b[0mi\u001b[0m\u001b[0;34m]\u001b[0m\u001b[0;34m,\u001b[0m \u001b[0;36m0.2\u001b[0m\u001b[0;34m,\u001b[0m \u001b[0;36m0.2\u001b[0m\u001b[0;34m,\u001b[0m \u001b[0mpi\u001b[0m\u001b[0;34m[\u001b[0m\u001b[0mi\u001b[0m\u001b[0;34m]\u001b[0m\u001b[0;34m,\u001b[0m \u001b[0mdelta\u001b[0m\u001b[0;34m)\u001b[0m\u001b[0;34m\u001b[0m\u001b[0m\n\u001b[0m",
      "\u001b[0;32m<ipython-input-4-cc47a1378fdb>\u001b[0m in \u001b[0;36mupdate_image\u001b[0;34m(im, theta_h, theta_x, pi_i, delta)\u001b[0m\n\u001b[1;32m     22\u001b[0m     \u001b[0mpi_i\u001b[0m \u001b[0;34m=\u001b[0m \u001b[0mtemp_pi_i\u001b[0m\u001b[0;34m\u001b[0m\u001b[0m\n\u001b[1;32m     23\u001b[0m     \u001b[0;32mif\u001b[0m \u001b[0mdiff\u001b[0m \u001b[0;34m>\u001b[0m \u001b[0mdelta\u001b[0m\u001b[0;34m:\u001b[0m\u001b[0;34m\u001b[0m\u001b[0m\n\u001b[0;32m---> 24\u001b[0;31m         \u001b[0mupdate_image\u001b[0m\u001b[0;34m(\u001b[0m\u001b[0mim\u001b[0m\u001b[0;34m,\u001b[0m \u001b[0mtheta_h\u001b[0m\u001b[0;34m,\u001b[0m \u001b[0mtheta_x\u001b[0m\u001b[0;34m,\u001b[0m \u001b[0mpi_i\u001b[0m\u001b[0;34m,\u001b[0m \u001b[0mdelta\u001b[0m\u001b[0;34m)\u001b[0m\u001b[0;34m\u001b[0m\u001b[0m\n\u001b[0m\u001b[1;32m     25\u001b[0m     \u001b[0;32mreturn\u001b[0m \u001b[0mim\u001b[0m\u001b[0;34m,\u001b[0m \u001b[0mpi_i\u001b[0m\u001b[0;34m\u001b[0m\u001b[0m\n",
      "\u001b[0;32m<ipython-input-4-cc47a1378fdb>\u001b[0m in \u001b[0;36mupdate_image\u001b[0;34m(im, theta_h, theta_x, pi_i, delta)\u001b[0m\n\u001b[1;32m     22\u001b[0m     \u001b[0mpi_i\u001b[0m \u001b[0;34m=\u001b[0m \u001b[0mtemp_pi_i\u001b[0m\u001b[0;34m\u001b[0m\u001b[0m\n\u001b[1;32m     23\u001b[0m     \u001b[0;32mif\u001b[0m \u001b[0mdiff\u001b[0m \u001b[0;34m>\u001b[0m \u001b[0mdelta\u001b[0m\u001b[0;34m:\u001b[0m\u001b[0;34m\u001b[0m\u001b[0m\n\u001b[0;32m---> 24\u001b[0;31m         \u001b[0mupdate_image\u001b[0m\u001b[0;34m(\u001b[0m\u001b[0mim\u001b[0m\u001b[0;34m,\u001b[0m \u001b[0mtheta_h\u001b[0m\u001b[0;34m,\u001b[0m \u001b[0mtheta_x\u001b[0m\u001b[0;34m,\u001b[0m \u001b[0mpi_i\u001b[0m\u001b[0;34m,\u001b[0m \u001b[0mdelta\u001b[0m\u001b[0;34m)\u001b[0m\u001b[0;34m\u001b[0m\u001b[0m\n\u001b[0m\u001b[1;32m     25\u001b[0m     \u001b[0;32mreturn\u001b[0m \u001b[0mim\u001b[0m\u001b[0;34m,\u001b[0m \u001b[0mpi_i\u001b[0m\u001b[0;34m\u001b[0m\u001b[0m\n",
      "\u001b[0;32m<ipython-input-4-cc47a1378fdb>\u001b[0m in \u001b[0;36mupdate_image\u001b[0;34m(im, theta_h, theta_x, pi_i, delta)\u001b[0m\n\u001b[1;32m     22\u001b[0m     \u001b[0mpi_i\u001b[0m \u001b[0;34m=\u001b[0m \u001b[0mtemp_pi_i\u001b[0m\u001b[0;34m\u001b[0m\u001b[0m\n\u001b[1;32m     23\u001b[0m     \u001b[0;32mif\u001b[0m \u001b[0mdiff\u001b[0m \u001b[0;34m>\u001b[0m \u001b[0mdelta\u001b[0m\u001b[0;34m:\u001b[0m\u001b[0;34m\u001b[0m\u001b[0m\n\u001b[0;32m---> 24\u001b[0;31m         \u001b[0mupdate_image\u001b[0m\u001b[0;34m(\u001b[0m\u001b[0mim\u001b[0m\u001b[0;34m,\u001b[0m \u001b[0mtheta_h\u001b[0m\u001b[0;34m,\u001b[0m \u001b[0mtheta_x\u001b[0m\u001b[0;34m,\u001b[0m \u001b[0mpi_i\u001b[0m\u001b[0;34m,\u001b[0m \u001b[0mdelta\u001b[0m\u001b[0;34m)\u001b[0m\u001b[0;34m\u001b[0m\u001b[0m\n\u001b[0m\u001b[1;32m     25\u001b[0m     \u001b[0;32mreturn\u001b[0m \u001b[0mim\u001b[0m\u001b[0;34m,\u001b[0m \u001b[0mpi_i\u001b[0m\u001b[0;34m\u001b[0m\u001b[0m\n",
      "\u001b[0;32m<ipython-input-4-cc47a1378fdb>\u001b[0m in \u001b[0;36mupdate_image\u001b[0;34m(im, theta_h, theta_x, pi_i, delta)\u001b[0m\n\u001b[1;32m     22\u001b[0m     \u001b[0mpi_i\u001b[0m \u001b[0;34m=\u001b[0m \u001b[0mtemp_pi_i\u001b[0m\u001b[0;34m\u001b[0m\u001b[0m\n\u001b[1;32m     23\u001b[0m     \u001b[0;32mif\u001b[0m \u001b[0mdiff\u001b[0m \u001b[0;34m>\u001b[0m \u001b[0mdelta\u001b[0m\u001b[0;34m:\u001b[0m\u001b[0;34m\u001b[0m\u001b[0m\n\u001b[0;32m---> 24\u001b[0;31m         \u001b[0mupdate_image\u001b[0m\u001b[0;34m(\u001b[0m\u001b[0mim\u001b[0m\u001b[0;34m,\u001b[0m \u001b[0mtheta_h\u001b[0m\u001b[0;34m,\u001b[0m \u001b[0mtheta_x\u001b[0m\u001b[0;34m,\u001b[0m \u001b[0mpi_i\u001b[0m\u001b[0;34m,\u001b[0m \u001b[0mdelta\u001b[0m\u001b[0;34m)\u001b[0m\u001b[0;34m\u001b[0m\u001b[0m\n\u001b[0m\u001b[1;32m     25\u001b[0m     \u001b[0;32mreturn\u001b[0m \u001b[0mim\u001b[0m\u001b[0;34m,\u001b[0m \u001b[0mpi_i\u001b[0m\u001b[0;34m\u001b[0m\u001b[0m\n",
      "\u001b[0;32m<ipython-input-4-cc47a1378fdb>\u001b[0m in \u001b[0;36mupdate_image\u001b[0;34m(im, theta_h, theta_x, pi_i, delta)\u001b[0m\n\u001b[1;32m     13\u001b[0m             \u001b[0mq_minus\u001b[0m \u001b[0;34m+=\u001b[0m \u001b[0;34m-\u001b[0m\u001b[0mq_plus\u001b[0m\u001b[0;34m\u001b[0m\u001b[0m\n\u001b[1;32m     14\u001b[0m         \u001b[0mtemp_pi_i\u001b[0m\u001b[0;34m[\u001b[0m\u001b[0mp\u001b[0m\u001b[0;34m]\u001b[0m \u001b[0;34m=\u001b[0m \u001b[0mnp\u001b[0m\u001b[0;34m.\u001b[0m\u001b[0mexp\u001b[0m\u001b[0;34m(\u001b[0m\u001b[0mq_plus\u001b[0m\u001b[0;34m)\u001b[0m\u001b[0;34m/\u001b[0m\u001b[0;34m(\u001b[0m\u001b[0mnp\u001b[0m\u001b[0;34m.\u001b[0m\u001b[0mexp\u001b[0m\u001b[0;34m(\u001b[0m\u001b[0mq_plus\u001b[0m\u001b[0;34m)\u001b[0m\u001b[0;34m+\u001b[0m\u001b[0mnp\u001b[0m\u001b[0;34m.\u001b[0m\u001b[0mexp\u001b[0m\u001b[0;34m(\u001b[0m\u001b[0mq_minus\u001b[0m\u001b[0;34m)\u001b[0m\u001b[0;34m)\u001b[0m\u001b[0;34m\u001b[0m\u001b[0m\n\u001b[0;32m---> 15\u001b[0;31m         \u001b[0;32mif\u001b[0m \u001b[0mabs\u001b[0m\u001b[0;34m(\u001b[0m\u001b[0mtemp_pi_i\u001b[0m\u001b[0;34m[\u001b[0m\u001b[0mp\u001b[0m\u001b[0;34m]\u001b[0m \u001b[0;34m-\u001b[0m \u001b[0mpi_i\u001b[0m\u001b[0;34m[\u001b[0m\u001b[0mp\u001b[0m\u001b[0;34m]\u001b[0m\u001b[0;34m)\u001b[0m \u001b[0;34m>\u001b[0m \u001b[0mdiff\u001b[0m\u001b[0;34m:\u001b[0m\u001b[0;34m\u001b[0m\u001b[0m\n\u001b[0m\u001b[1;32m     16\u001b[0m             \u001b[0mdiff\u001b[0m \u001b[0;34m=\u001b[0m \u001b[0mabs\u001b[0m\u001b[0;34m(\u001b[0m\u001b[0mtemp_pi_i\u001b[0m\u001b[0;34m[\u001b[0m\u001b[0mp\u001b[0m\u001b[0;34m]\u001b[0m \u001b[0;34m-\u001b[0m \u001b[0mpi_i\u001b[0m\u001b[0;34m[\u001b[0m\u001b[0mp\u001b[0m\u001b[0;34m]\u001b[0m\u001b[0;34m)\u001b[0m\u001b[0;34m\u001b[0m\u001b[0m\n\u001b[1;32m     17\u001b[0m         \u001b[0;32mif\u001b[0m \u001b[0mtemp_pi_i\u001b[0m\u001b[0;34m[\u001b[0m\u001b[0mp\u001b[0m\u001b[0;34m]\u001b[0m \u001b[0;34m>\u001b[0m \u001b[0;36m0.5\u001b[0m\u001b[0;34m:\u001b[0m\u001b[0;34m\u001b[0m\u001b[0m\n",
      "\u001b[0;31mKeyboardInterrupt\u001b[0m: "
     ]
    }
   ],
   "source": [
    "# reconstruct images\n",
    "\n",
    "pi = np.ones((im_in.shape[0], im_in.shape[1]))*0.5\n",
    "im_out = im_noise.copy()\n",
    "delta = 0.001\n",
    "for i in range(im_out.shape[0]):\n",
    "    im_out[i], pi[i]= update_image(im_out[i], 0.2, 0.2, pi[i], delta)"
   ]
  },
  {
   "cell_type": "code",
   "execution_count": null,
   "metadata": {
    "scrolled": true
   },
   "outputs": [],
   "source": [
    "# plot original, noised, denoised images\n",
    "# replace this image to be most&least accurate reconstructions    \n",
    "fig=plt.figure(figsize=(8, 8))\n",
    "columns = 3\n",
    "rows = 10\n",
    "for i in range(10):\n",
    "    plt.figure()\n",
    "    plt.imshow(im_in[i].reshape(28,28), cmap=\"gray\")\n",
    "    plt.figure()\n",
    "    plt.imshow(im_noise[i].reshape(28,28), cmap=\"gray\")\n",
    "    plt.figure()\n",
    "    plt.imshow(im_out[i].reshape(28,28), cmap=\"gray\")\n",
    "plt.show() "
   ]
  },
  {
   "cell_type": "code",
   "execution_count": null,
   "metadata": {},
   "outputs": [],
   "source": [
    "### TO DO: find the most&least accurate reconstructions and plot original, noised, denoised images\n",
    "def get_accuracy(test):\n",
    "    total_accuracy = np.zeros(im_in.shape[0])\n",
    "    for i in range(im_in.shape[0]):\n",
    "        wrong = 0\n",
    "        curr = im_in[i]\n",
    "        compare = test[i]\n",
    "        for j in range(curr.shape[0]):\n",
    "            if curr[j] != compare[j]:\n",
    "                   wrong += 1\n",
    "        accuracy = 1 - 1.0 * (wrong)/curr.shape[0]\n",
    "        total_accuracy[i] = accuracy\n",
    "    average_accuracy = sum(total_accuracy)/500\n",
    "    print(average_accuracy)\n",
    "    return average_accuracy"
   ]
  },
  {
   "cell_type": "code",
   "execution_count": null,
   "metadata": {},
   "outputs": [],
   "source": [
    "def perf_measure(y_actual, y_hat):\n",
    "    TP = 0\n",
    "    FP = 0\n",
    "    TN = 0\n",
    "    FN = 0\n",
    "\n",
    "    for i in range(len(y_hat)): \n",
    "        if y_actual[i]==y_hat[i]==1:\n",
    "           TP += 1\n",
    "        if y_hat[i]==1 and y_actual[i]!=y_hat[i]:\n",
    "           FP += 1\n",
    "        if y_actual[i]==y_hat[i]==-1:\n",
    "           TN += 1\n",
    "        if y_hat[i]==-1 and y_actual[i]!=y_hat[i]:\n",
    "           FN += 1\n",
    "\n",
    "    return(TP, FP, TN, FN)"
   ]
  },
  {
   "cell_type": "code",
   "execution_count": null,
   "metadata": {},
   "outputs": [],
   "source": [
    "parameters = [0, 0.2, 1, 2]\n",
    "\n",
    "pred = {}\n",
    "pi = np.ones((im_in.shape[0], im_in.shape[1]))*0.5\n",
    "im_out = im_noise.copy()\n",
    "delta = 0.001\n",
    "for para in parameters:\n",
    "    for i in range(im_out.shape[0]):\n",
    "        im_out[i], pi[i]= update_image(im_out[i], para, 0.2, pi[i], delta)\n",
    "    pred[para] = im_out.reshape(500 * 784)\n",
    "label = im_in.reshape(500 * 784)\n",
    "TP, FP, TN, FN = perf_measure(label, pred[para])\n",
    "print(TP,FP,TN,FN)"
   ]
  },
  {
   "cell_type": "code",
   "execution_count": null,
   "metadata": {},
   "outputs": [],
   "source": [
    "pi = np.ones((im_in.shape[0], im_in.shape[1]))*0.5\n",
    "im_out = im_noise.copy()\n",
    "delta = 0.001\n",
    "run_time = 0\n",
    "for i in range(im_out.shape[0]):\n",
    "    im_out[i], pi[i]= update_image(im_out[i], -1, 0.2, pi[i], delta, run_time)"
   ]
  },
  {
   "cell_type": "code",
   "execution_count": null,
   "metadata": {},
   "outputs": [],
   "source": [
    "### TO DO: plot receiving operating curve -1, 0, 0.2, 1, 2\n",
    "from sklearn import metrics\n",
    "\n",
    "parameters = [-1, 0, 0.2, 1, 2]\n",
    "\n",
    "pred = {}\n",
    "\n",
    "label = im_in.reshape(500 * 784)\n",
    "\n",
    "\n",
    "for para in parameters:\n",
    "    fpr = dict()\n",
    "    tpr = dict()\n",
    "    pi = np.ones((im_in.shape[0], im_in.shape[1]))*0.5\n",
    "    im_out = im_noise.copy()\n",
    "    delta = 0.001\n",
    "    for i in range(im_out.shape[0]):\n",
    "        im_out[i], pi[i]= update_image(im_out[i], para, 0.2, pi[i], delta)\n",
    "    pred[para] = im_out.reshape(500 * 784)\n",
    "    fpr[para],tpr[para], _ = metrics.roc_curve(label, pred[para])\n",
    "    plt.scatter(fpr[para], tpr[para])\n",
    "    plt.xlabel(\"FPR\")\n",
    "    plt.ylabel(\"TPR\")\n",
    "    plt.title(\"ROC Curve\")\n",
    "    plt.show()\n",
    "    "
   ]
  },
  {
   "cell_type": "code",
   "execution_count": null,
   "metadata": {},
   "outputs": [],
   "source": []
  }
 ],
 "metadata": {
  "kernelspec": {
   "display_name": "Python 3",
   "language": "python",
   "name": "python3"
  },
  "language_info": {
   "codemirror_mode": {
    "name": "ipython",
    "version": 3
   },
   "file_extension": ".py",
   "mimetype": "text/x-python",
   "name": "python",
   "nbconvert_exporter": "python",
   "pygments_lexer": "ipython3",
   "version": "3.7.0"
  }
 },
 "nbformat": 4,
 "nbformat_minor": 2
}
