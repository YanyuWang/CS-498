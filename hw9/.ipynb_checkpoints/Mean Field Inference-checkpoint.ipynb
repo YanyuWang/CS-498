{
 "cells": [
  {
   "cell_type": "markdown",
   "metadata": {},
   "source": [
    "# Mean Field Inference"
   ]
  },
  {
   "cell_type": "code",
   "execution_count": 120,
   "metadata": {},
   "outputs": [],
   "source": [
    "import numpy as np\n",
    "from mlxtend.data import loadlocal_mnist\n",
    "import matplotlib.pyplot as plt"
   ]
  },
  {
   "cell_type": "code",
   "execution_count": 121,
   "metadata": {},
   "outputs": [],
   "source": [
    "# load MNIST images\n",
    "\n",
    "ims, _ = loadlocal_mnist(\n",
    "        images_path='train-images-idx3-ubyte', \n",
    "        labels_path='train-labels-idx1-ubyte')"
   ]
  },
  {
   "cell_type": "code",
   "execution_count": 122,
   "metadata": {},
   "outputs": [],
   "source": [
    "# find 8 neighbors of a given pixel\n",
    "\n",
    "def find_neighbor(im, idx, w, h):\n",
    "    s = w*h\n",
    "    nbr = []\n",
    "    if idx < 0 or idx > s-1:\n",
    "        return nbr\n",
    "    if idx-1 >= 0 and idx%w != 0:\n",
    "        nbr.append(idx-1)\n",
    "    if idx+1 < s and (idx+1)%w != 0:\n",
    "        nbr.append(idx+1)\n",
    "    if idx-w >= 0:\n",
    "        nbr.append(idx-w)\n",
    "    if idx+w < s:\n",
    "        nbr.append(idx+w)\n",
    "    if idx-w-1 >= 0 and idx%w != 0:\n",
    "        nbr.append(idx-w-1)\n",
    "    if idx-w+1 >= 0 and (idx+1)%w != 0:\n",
    "        nbr.append(idx-w+1)\n",
    "    if idx+w-1 < s and idx%w != 0:\n",
    "        nbr.append(idx+w-1)\n",
    "    if idx+w+1 < s and (idx+1)%w != 0:\n",
    "        nbr.append(idx+w+1)\n",
    "    return nbr"
   ]
  },
  {
   "cell_type": "code",
   "execution_count": 123,
   "metadata": {},
   "outputs": [],
   "source": [
    "# Update an image using mean field inference until it converges(update<delta)\n",
    "\n",
    "def update_image(im, theta_h, theta_x, pi_i, delta):\n",
    "    temp_im = im.copy()\n",
    "    temp_pi_i = pi_i.copy()\n",
    "    diff = 0\n",
    "    for p in range(im.shape[0]):\n",
    "        nbr = find_neighbor(im, p, 28, 28)\n",
    "        q_plus = 0\n",
    "        q_minus = 0\n",
    "        for n in nbr:\n",
    "            q_plus += 0.2 * (2*pi_i[n] - 1 + im[n])\n",
    "            q_minus += -q_plus\n",
    "        temp_pi_i[p] = np.exp(q_plus)/(np.exp(q_plus)+np.exp(q_minus))\n",
    "        if abs(temp_pi_i[p] - pi_i[p]) > diff:\n",
    "            diff = abs(temp_pi_i[p] - pi_i[p])\n",
    "        if temp_pi_i[p] > 0.5:\n",
    "            temp_im[p] = 1\n",
    "        else:\n",
    "            temp_im[p] = -1\n",
    "    im = temp_im\n",
    "    pi_i = temp_pi_i\n",
    "    if diff > delta:\n",
    "        update_image(im, theta_h, theta_x, pi_i, delta)\n",
    "    return im, pi_i"
   ]
  },
  {
   "cell_type": "code",
   "execution_count": 124,
   "metadata": {},
   "outputs": [],
   "source": [
    "# take the first 500 MNIST images as original images and denoise 2% pixels randomly\n",
    "\n",
    "im_in = ims[0:500][:]/255\n",
    "im_noise = im_in.copy()\n",
    "rand_idx = np.arange(im_in.shape[1])\n",
    "for i in range(im_in.shape[0]):\n",
    "    for j in range(im_in.shape[1]):\n",
    "        if im_in[i][j]>=0.5:\n",
    "            im_in[i][j] = 1\n",
    "            im_noise[i][j] = 1\n",
    "        else:\n",
    "            im_in[i][j] = -1\n",
    "            im_noise[i][j] = -1\n",
    "    np.random.shuffle(rand_idx)\n",
    "    for k in range(int(len(rand_idx)*0.02)):\n",
    "        p = rand_idx[k]\n",
    "        im_noise[i][p]*=-1"
   ]
  },
  {
   "cell_type": "code",
   "execution_count": 125,
   "metadata": {},
   "outputs": [],
   "source": [
    "# reconstruct images\n",
    "\n",
    "pi = np.ones((im_in.shape[0], im_in.shape[1]))*0.5\n",
    "im_out = im_noise.copy()\n",
    "delta = 0.001\n",
    "for i in range(im_out.shape[0]):\n",
    "    im_out[i], pi[i]= update_image(im_out[i], 0.2, 0.2, pi[i], delta)"
   ]
  },
  {
   "cell_type": "code",
   "execution_count": 129,
   "metadata": {},
   "outputs": [
    {
     "data": {
      "text/plain": [
       "<matplotlib.image.AxesImage at 0x2682989ef28>"
      ]
     },
     "execution_count": 129,
     "metadata": {},
     "output_type": "execute_result"
    },
    {
     "data": {
      "image/png": "[encoded data removed]",
      "text/plain": [
       "<Figure size 432x288 with 1 Axes>"
      ]
     },
     "metadata": {},
     "output_type": "display_data"
    },
    {
     "data": {
      "image/png": "[encoded data removed]",
      "text/plain": [
       "<Figure size 432x288 with 1 Axes>"
      ]
     },
     "metadata": {},
     "output_type": "display_data"
    },
    {
     "data": {
      "image/png": "[encoded data removed]",
      "text/plain": [
       "<Figure size 432x288 with 1 Axes>"
      ]
     },
     "metadata": {},
     "output_type": "display_data"
    }
   ],
   "source": [
    "# plot original, noised, denoised images\n",
    "# replace this image to be most&least accurate reconstructions\n",
    "\n",
    "plt.figure()\n",
    "plt.imshow(im_in[0].reshape(28,28), cmap=\"gray\")\n",
    "plt.figure()\n",
    "plt.imshow(im_noise[0].reshape(28,28), cmap=\"gray\")\n",
    "plt.figure()\n",
    "plt.imshow(im_out[0].reshape(28,28), cmap=\"gray\")"
   ]
  },
  {
   "cell_type": "code",
   "execution_count": 130,
   "metadata": {},
   "outputs": [],
   "source": [
    "### TO DO: find the most&least accurate reconstructions and plot original, noised, denoised images"
   ]
  },
  {
   "cell_type": "code",
   "execution_count": 131,
   "metadata": {},
   "outputs": [],
   "source": [
    "### TO DO: plot receiving operating curve"
   ]
  }
 ],
 "metadata": {
  "kernelspec": {
   "display_name": "Python 3",
   "language": "python",
   "name": "python3"
  },
  "language_info": {
   "codemirror_mode": {
    "name": "ipython",
    "version": 3
   },
   "file_extension": ".py",
   "mimetype": "text/x-python",
   "name": "python",
   "nbconvert_exporter": "python",
   "pygments_lexer": "ipython3",
   "version": "3.6.4"
  }
 },
 "nbformat": 4,
 "nbformat_minor": 2
}
